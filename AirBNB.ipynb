{
 "cells": [
  {
   "cell_type": "markdown",
   "metadata": {},
   "source": [
    "# AirBNB"
   ]
  },
  {
   "cell_type": "markdown",
   "metadata": {},
   "source": [
    "## Importamos librerías"
   ]
  },
  {
   "cell_type": "code",
   "execution_count": 1,
   "metadata": {},
   "outputs": [],
   "source": [
    "import pandas as pd\n",
    "import seaborn as sb\n",
    "import numpy as np\n",
    "import matplotlib.pyplot as plt\n",
    "import datetime"
   ]
  },
  {
   "cell_type": "markdown",
   "metadata": {},
   "source": [
    "## Cargamos el dataset"
   ]
  },
  {
   "cell_type": "code",
   "execution_count": 2,
   "metadata": {},
   "outputs": [],
   "source": [
    "df = pd.read_csv('airbnb.csv', sep = ',') # Se separan los elementos por comas"
   ]
  },
  {
   "cell_type": "markdown",
   "metadata": {},
   "source": [
    "## Análisis"
   ]
  },
  {
   "cell_type": "markdown",
   "metadata": {},
   "source": [
    "### Comprobamos los campos disponibles"
   ]
  },
  {
   "cell_type": "code",
   "execution_count": 3,
   "metadata": {},
   "outputs": [
    {
     "data": {
      "text/plain": [
       "Index(['id', 'listing_url', 'scrape_id', 'last_scraped', 'name', 'description',\n",
       "       'neighborhood_overview', 'picture_url', 'host_id', 'host_url',\n",
       "       'host_name', 'host_since', 'host_location', 'host_about',\n",
       "       'host_response_time', 'host_response_rate', 'host_acceptance_rate',\n",
       "       'host_is_superhost', 'host_thumbnail_url', 'host_picture_url',\n",
       "       'host_neighbourhood', 'host_listings_count',\n",
       "       'host_total_listings_count', 'host_verifications',\n",
       "       'host_has_profile_pic', 'host_identity_verified', 'neighbourhood',\n",
       "       'neighbourhood_cleansed', 'neighbourhood_group_cleansed', 'latitude',\n",
       "       'longitude', 'property_type', 'room_type', 'accommodates', 'bathrooms',\n",
       "       'bathrooms_text', 'bedrooms', 'beds', 'amenities', 'price',\n",
       "       'minimum_nights', 'maximum_nights', 'minimum_minimum_nights',\n",
       "       'maximum_minimum_nights', 'minimum_maximum_nights',\n",
       "       'maximum_maximum_nights', 'minimum_nights_avg_ntm',\n",
       "       'maximum_nights_avg_ntm', 'calendar_updated', 'has_availability',\n",
       "       'availability_30', 'availability_60', 'availability_90',\n",
       "       'availability_365', 'calendar_last_scraped', 'number_of_reviews',\n",
       "       'number_of_reviews_ltm', 'number_of_reviews_l30d', 'first_review',\n",
       "       'last_review', 'review_scores_rating', 'review_scores_accuracy',\n",
       "       'review_scores_cleanliness', 'review_scores_checkin',\n",
       "       'review_scores_communication', 'review_scores_location',\n",
       "       'review_scores_value', 'license', 'instant_bookable',\n",
       "       'calculated_host_listings_count',\n",
       "       'calculated_host_listings_count_entire_homes',\n",
       "       'calculated_host_listings_count_private_rooms',\n",
       "       'calculated_host_listings_count_shared_rooms', 'reviews_per_month'],\n",
       "      dtype='object')"
      ]
     },
     "execution_count": 3,
     "metadata": {},
     "output_type": "execute_result"
    }
   ],
   "source": [
    "df.columns"
   ]
  },
  {
   "cell_type": "markdown",
   "metadata": {},
   "source": [
    "### Comprobamos los valores que pueden tener estos campos"
   ]
  },
  {
   "cell_type": "code",
   "execution_count": 4,
   "metadata": {},
   "outputs": [
    {
     "data": {
      "text/html": [
       "<div>\n",
       "<style scoped>\n",
       "    .dataframe tbody tr th:only-of-type {\n",
       "        vertical-align: middle;\n",
       "    }\n",
       "\n",
       "    .dataframe tbody tr th {\n",
       "        vertical-align: top;\n",
       "    }\n",
       "\n",
       "    .dataframe thead th {\n",
       "        text-align: right;\n",
       "    }\n",
       "</style>\n",
       "<table border=\"1\" class=\"dataframe\">\n",
       "  <thead>\n",
       "    <tr style=\"text-align: right;\">\n",
       "      <th></th>\n",
       "      <th>id</th>\n",
       "      <th>listing_url</th>\n",
       "      <th>scrape_id</th>\n",
       "      <th>last_scraped</th>\n",
       "      <th>name</th>\n",
       "      <th>description</th>\n",
       "      <th>neighborhood_overview</th>\n",
       "      <th>picture_url</th>\n",
       "      <th>host_id</th>\n",
       "      <th>host_url</th>\n",
       "      <th>...</th>\n",
       "      <th>review_scores_communication</th>\n",
       "      <th>review_scores_location</th>\n",
       "      <th>review_scores_value</th>\n",
       "      <th>license</th>\n",
       "      <th>instant_bookable</th>\n",
       "      <th>calculated_host_listings_count</th>\n",
       "      <th>calculated_host_listings_count_entire_homes</th>\n",
       "      <th>calculated_host_listings_count_private_rooms</th>\n",
       "      <th>calculated_host_listings_count_shared_rooms</th>\n",
       "      <th>reviews_per_month</th>\n",
       "    </tr>\n",
       "  </thead>\n",
       "  <tbody>\n",
       "    <tr>\n",
       "      <th>0</th>\n",
       "      <td>11547</td>\n",
       "      <td>https://www.airbnb.com/rooms/11547</td>\n",
       "      <td>20200919153121</td>\n",
       "      <td>2020-09-21</td>\n",
       "      <td>My home at the beach</td>\n",
       "      <td>Sun, joy, relax, quality, beach &amp; peace.&lt;br /&gt;...</td>\n",
       "      <td>NaN</td>\n",
       "      <td>https://a0.muscache.com/pictures/494126/8c151b...</td>\n",
       "      <td>42942</td>\n",
       "      <td>https://www.airbnb.com/users/show/42942</td>\n",
       "      <td>...</td>\n",
       "      <td>10.0</td>\n",
       "      <td>10.0</td>\n",
       "      <td>10.0</td>\n",
       "      <td>NaN</td>\n",
       "      <td>f</td>\n",
       "      <td>1</td>\n",
       "      <td>1</td>\n",
       "      <td>0</td>\n",
       "      <td>0</td>\n",
       "      <td>0.93</td>\n",
       "    </tr>\n",
       "    <tr>\n",
       "      <th>1</th>\n",
       "      <td>100831</td>\n",
       "      <td>https://www.airbnb.com/rooms/100831</td>\n",
       "      <td>20200919153121</td>\n",
       "      <td>2020-09-21</td>\n",
       "      <td>HOUSE IN MALLORCA - WiFi(ET-3045)</td>\n",
       "      <td>&lt;b&gt;The space&lt;/b&gt;&lt;br /&gt;House situated in a quie...</td>\n",
       "      <td>NaN</td>\n",
       "      <td>https://a0.muscache.com/pictures/675527/72b329...</td>\n",
       "      <td>529151</td>\n",
       "      <td>https://www.airbnb.com/users/show/529151</td>\n",
       "      <td>...</td>\n",
       "      <td>10.0</td>\n",
       "      <td>10.0</td>\n",
       "      <td>10.0</td>\n",
       "      <td>ETV-3045</td>\n",
       "      <td>t</td>\n",
       "      <td>1</td>\n",
       "      <td>1</td>\n",
       "      <td>0</td>\n",
       "      <td>0</td>\n",
       "      <td>1.47</td>\n",
       "    </tr>\n",
       "    <tr>\n",
       "      <th>2</th>\n",
       "      <td>105891</td>\n",
       "      <td>https://www.airbnb.com/rooms/105891</td>\n",
       "      <td>20200919153121</td>\n",
       "      <td>2020-09-20</td>\n",
       "      <td>VILLAGE HOUSE WITH POOL: IDEAL FOR FAMILIES</td>\n",
       "      <td>The house is a street on the outskirts of the ...</td>\n",
       "      <td>The village's population does not reach two th...</td>\n",
       "      <td>https://a0.muscache.com/pictures/1036816/f36ce...</td>\n",
       "      <td>549192</td>\n",
       "      <td>https://www.airbnb.com/users/show/549192</td>\n",
       "      <td>...</td>\n",
       "      <td>10.0</td>\n",
       "      <td>9.0</td>\n",
       "      <td>10.0</td>\n",
       "      <td>ETV/6127</td>\n",
       "      <td>t</td>\n",
       "      <td>2</td>\n",
       "      <td>2</td>\n",
       "      <td>0</td>\n",
       "      <td>0</td>\n",
       "      <td>0.14</td>\n",
       "    </tr>\n",
       "    <tr>\n",
       "      <th>3</th>\n",
       "      <td>106833</td>\n",
       "      <td>https://www.airbnb.com/rooms/106833</td>\n",
       "      <td>20200919153121</td>\n",
       "      <td>2020-09-20</td>\n",
       "      <td>Villa with a big pool in Mallorca</td>\n",
       "      <td>&lt;b&gt;The space&lt;/b&gt;&lt;br /&gt;This is a restored old b...</td>\n",
       "      <td>NaN</td>\n",
       "      <td>https://a0.muscache.com/pictures/710218/98134c...</td>\n",
       "      <td>551974</td>\n",
       "      <td>https://www.airbnb.com/users/show/551974</td>\n",
       "      <td>...</td>\n",
       "      <td>10.0</td>\n",
       "      <td>9.0</td>\n",
       "      <td>9.0</td>\n",
       "      <td>ET/1961</td>\n",
       "      <td>f</td>\n",
       "      <td>1</td>\n",
       "      <td>1</td>\n",
       "      <td>0</td>\n",
       "      <td>0</td>\n",
       "      <td>0.09</td>\n",
       "    </tr>\n",
       "    <tr>\n",
       "      <th>4</th>\n",
       "      <td>130669</td>\n",
       "      <td>https://www.airbnb.com/rooms/130669</td>\n",
       "      <td>20200919153121</td>\n",
       "      <td>2020-09-20</td>\n",
       "      <td>Room great apartment</td>\n",
       "      <td>Located in a residential neighbourhood and 10m...</td>\n",
       "      <td>Located in the center of the city, within minu...</td>\n",
       "      <td>https://a0.muscache.com/pictures/866653/58dc48...</td>\n",
       "      <td>643065</td>\n",
       "      <td>https://www.airbnb.com/users/show/643065</td>\n",
       "      <td>...</td>\n",
       "      <td>NaN</td>\n",
       "      <td>NaN</td>\n",
       "      <td>NaN</td>\n",
       "      <td>NaN</td>\n",
       "      <td>t</td>\n",
       "      <td>2</td>\n",
       "      <td>0</td>\n",
       "      <td>2</td>\n",
       "      <td>0</td>\n",
       "      <td>NaN</td>\n",
       "    </tr>\n",
       "  </tbody>\n",
       "</table>\n",
       "<p>5 rows × 74 columns</p>\n",
       "</div>"
      ],
      "text/plain": [
       "       id                          listing_url       scrape_id last_scraped  \\\n",
       "0   11547   https://www.airbnb.com/rooms/11547  20200919153121   2020-09-21   \n",
       "1  100831  https://www.airbnb.com/rooms/100831  20200919153121   2020-09-21   \n",
       "2  105891  https://www.airbnb.com/rooms/105891  20200919153121   2020-09-20   \n",
       "3  106833  https://www.airbnb.com/rooms/106833  20200919153121   2020-09-20   \n",
       "4  130669  https://www.airbnb.com/rooms/130669  20200919153121   2020-09-20   \n",
       "\n",
       "                                          name  \\\n",
       "0                         My home at the beach   \n",
       "1            HOUSE IN MALLORCA - WiFi(ET-3045)   \n",
       "2  VILLAGE HOUSE WITH POOL: IDEAL FOR FAMILIES   \n",
       "3            Villa with a big pool in Mallorca   \n",
       "4                         Room great apartment   \n",
       "\n",
       "                                         description  \\\n",
       "0  Sun, joy, relax, quality, beach & peace.<br />...   \n",
       "1  <b>The space</b><br />House situated in a quie...   \n",
       "2  The house is a street on the outskirts of the ...   \n",
       "3  <b>The space</b><br />This is a restored old b...   \n",
       "4  Located in a residential neighbourhood and 10m...   \n",
       "\n",
       "                               neighborhood_overview  \\\n",
       "0                                                NaN   \n",
       "1                                                NaN   \n",
       "2  The village's population does not reach two th...   \n",
       "3                                                NaN   \n",
       "4  Located in the center of the city, within minu...   \n",
       "\n",
       "                                         picture_url  host_id  \\\n",
       "0  https://a0.muscache.com/pictures/494126/8c151b...    42942   \n",
       "1  https://a0.muscache.com/pictures/675527/72b329...   529151   \n",
       "2  https://a0.muscache.com/pictures/1036816/f36ce...   549192   \n",
       "3  https://a0.muscache.com/pictures/710218/98134c...   551974   \n",
       "4  https://a0.muscache.com/pictures/866653/58dc48...   643065   \n",
       "\n",
       "                                   host_url  ... review_scores_communication  \\\n",
       "0   https://www.airbnb.com/users/show/42942  ...                        10.0   \n",
       "1  https://www.airbnb.com/users/show/529151  ...                        10.0   \n",
       "2  https://www.airbnb.com/users/show/549192  ...                        10.0   \n",
       "3  https://www.airbnb.com/users/show/551974  ...                        10.0   \n",
       "4  https://www.airbnb.com/users/show/643065  ...                         NaN   \n",
       "\n",
       "  review_scores_location review_scores_value   license instant_bookable  \\\n",
       "0                   10.0                10.0       NaN                f   \n",
       "1                   10.0                10.0  ETV-3045                t   \n",
       "2                    9.0                10.0  ETV/6127                t   \n",
       "3                    9.0                 9.0   ET/1961                f   \n",
       "4                    NaN                 NaN       NaN                t   \n",
       "\n",
       "  calculated_host_listings_count calculated_host_listings_count_entire_homes  \\\n",
       "0                              1                                           1   \n",
       "1                              1                                           1   \n",
       "2                              2                                           2   \n",
       "3                              1                                           1   \n",
       "4                              2                                           0   \n",
       "\n",
       "  calculated_host_listings_count_private_rooms  \\\n",
       "0                                            0   \n",
       "1                                            0   \n",
       "2                                            0   \n",
       "3                                            0   \n",
       "4                                            2   \n",
       "\n",
       "  calculated_host_listings_count_shared_rooms reviews_per_month  \n",
       "0                                           0              0.93  \n",
       "1                                           0              1.47  \n",
       "2                                           0              0.14  \n",
       "3                                           0              0.09  \n",
       "4                                           0               NaN  \n",
       "\n",
       "[5 rows x 74 columns]"
      ]
     },
     "execution_count": 4,
     "metadata": {},
     "output_type": "execute_result"
    }
   ],
   "source": [
    "df.head()"
   ]
  },
  {
   "cell_type": "code",
   "execution_count": 5,
   "metadata": {},
   "outputs": [
    {
     "data": {
      "text/html": [
       "<div>\n",
       "<style scoped>\n",
       "    .dataframe tbody tr th:only-of-type {\n",
       "        vertical-align: middle;\n",
       "    }\n",
       "\n",
       "    .dataframe tbody tr th {\n",
       "        vertical-align: top;\n",
       "    }\n",
       "\n",
       "    .dataframe thead th {\n",
       "        text-align: right;\n",
       "    }\n",
       "</style>\n",
       "<table border=\"1\" class=\"dataframe\">\n",
       "  <thead>\n",
       "    <tr style=\"text-align: right;\">\n",
       "      <th></th>\n",
       "      <th>id</th>\n",
       "      <th>scrape_id</th>\n",
       "      <th>host_id</th>\n",
       "      <th>host_listings_count</th>\n",
       "      <th>host_total_listings_count</th>\n",
       "      <th>neighbourhood_group_cleansed</th>\n",
       "      <th>latitude</th>\n",
       "      <th>longitude</th>\n",
       "      <th>accommodates</th>\n",
       "      <th>bathrooms</th>\n",
       "      <th>...</th>\n",
       "      <th>review_scores_cleanliness</th>\n",
       "      <th>review_scores_checkin</th>\n",
       "      <th>review_scores_communication</th>\n",
       "      <th>review_scores_location</th>\n",
       "      <th>review_scores_value</th>\n",
       "      <th>calculated_host_listings_count</th>\n",
       "      <th>calculated_host_listings_count_entire_homes</th>\n",
       "      <th>calculated_host_listings_count_private_rooms</th>\n",
       "      <th>calculated_host_listings_count_shared_rooms</th>\n",
       "      <th>reviews_per_month</th>\n",
       "    </tr>\n",
       "  </thead>\n",
       "  <tbody>\n",
       "    <tr>\n",
       "      <th>count</th>\n",
       "      <td>1.760800e+04</td>\n",
       "      <td>1.760800e+04</td>\n",
       "      <td>1.760800e+04</td>\n",
       "      <td>17606.000000</td>\n",
       "      <td>17606.000000</td>\n",
       "      <td>0.0</td>\n",
       "      <td>17608.000000</td>\n",
       "      <td>17608.000000</td>\n",
       "      <td>17608.000000</td>\n",
       "      <td>0.0</td>\n",
       "      <td>...</td>\n",
       "      <td>10953.000000</td>\n",
       "      <td>10949.000000</td>\n",
       "      <td>10951.000000</td>\n",
       "      <td>10950.000000</td>\n",
       "      <td>10949.000000</td>\n",
       "      <td>17608.000000</td>\n",
       "      <td>17608.000000</td>\n",
       "      <td>17608.000000</td>\n",
       "      <td>17608.000000</td>\n",
       "      <td>11173.000000</td>\n",
       "    </tr>\n",
       "    <tr>\n",
       "      <th>mean</th>\n",
       "      <td>2.610029e+07</td>\n",
       "      <td>2.020092e+13</td>\n",
       "      <td>1.012201e+08</td>\n",
       "      <td>130.200784</td>\n",
       "      <td>130.200784</td>\n",
       "      <td>NaN</td>\n",
       "      <td>39.657597</td>\n",
       "      <td>2.994115</td>\n",
       "      <td>5.857962</td>\n",
       "      <td>NaN</td>\n",
       "      <td>...</td>\n",
       "      <td>9.413677</td>\n",
       "      <td>9.684263</td>\n",
       "      <td>9.636654</td>\n",
       "      <td>9.496256</td>\n",
       "      <td>9.182665</td>\n",
       "      <td>96.601090</td>\n",
       "      <td>95.714959</td>\n",
       "      <td>0.782031</td>\n",
       "      <td>0.004203</td>\n",
       "      <td>0.615099</td>\n",
       "    </tr>\n",
       "    <tr>\n",
       "      <th>std</th>\n",
       "      <td>1.291263e+07</td>\n",
       "      <td>5.093895e+00</td>\n",
       "      <td>9.453596e+07</td>\n",
       "      <td>246.651175</td>\n",
       "      <td>246.651175</td>\n",
       "      <td>NaN</td>\n",
       "      <td>0.165577</td>\n",
       "      <td>0.246129</td>\n",
       "      <td>2.727737</td>\n",
       "      <td>NaN</td>\n",
       "      <td>...</td>\n",
       "      <td>1.003310</td>\n",
       "      <td>0.819335</td>\n",
       "      <td>0.905450</td>\n",
       "      <td>0.819512</td>\n",
       "      <td>1.026444</td>\n",
       "      <td>207.110669</td>\n",
       "      <td>206.103619</td>\n",
       "      <td>2.608507</td>\n",
       "      <td>0.098748</td>\n",
       "      <td>0.777632</td>\n",
       "    </tr>\n",
       "    <tr>\n",
       "      <th>min</th>\n",
       "      <td>1.154700e+04</td>\n",
       "      <td>2.020092e+13</td>\n",
       "      <td>4.294200e+04</td>\n",
       "      <td>0.000000</td>\n",
       "      <td>0.000000</td>\n",
       "      <td>NaN</td>\n",
       "      <td>39.301970</td>\n",
       "      <td>2.346500</td>\n",
       "      <td>0.000000</td>\n",
       "      <td>NaN</td>\n",
       "      <td>...</td>\n",
       "      <td>2.000000</td>\n",
       "      <td>2.000000</td>\n",
       "      <td>2.000000</td>\n",
       "      <td>2.000000</td>\n",
       "      <td>2.000000</td>\n",
       "      <td>1.000000</td>\n",
       "      <td>0.000000</td>\n",
       "      <td>0.000000</td>\n",
       "      <td>0.000000</td>\n",
       "      <td>0.010000</td>\n",
       "    </tr>\n",
       "    <tr>\n",
       "      <th>25%</th>\n",
       "      <td>1.661385e+07</td>\n",
       "      <td>2.020092e+13</td>\n",
       "      <td>2.116003e+07</td>\n",
       "      <td>2.000000</td>\n",
       "      <td>2.000000</td>\n",
       "      <td>NaN</td>\n",
       "      <td>39.543433</td>\n",
       "      <td>2.796892</td>\n",
       "      <td>4.000000</td>\n",
       "      <td>NaN</td>\n",
       "      <td>...</td>\n",
       "      <td>9.000000</td>\n",
       "      <td>10.000000</td>\n",
       "      <td>10.000000</td>\n",
       "      <td>9.000000</td>\n",
       "      <td>9.000000</td>\n",
       "      <td>2.000000</td>\n",
       "      <td>1.000000</td>\n",
       "      <td>0.000000</td>\n",
       "      <td>0.000000</td>\n",
       "      <td>0.130000</td>\n",
       "    </tr>\n",
       "    <tr>\n",
       "      <th>50%</th>\n",
       "      <td>2.598639e+07</td>\n",
       "      <td>2.020092e+13</td>\n",
       "      <td>8.063674e+07</td>\n",
       "      <td>15.000000</td>\n",
       "      <td>15.000000</td>\n",
       "      <td>NaN</td>\n",
       "      <td>39.670285</td>\n",
       "      <td>3.047310</td>\n",
       "      <td>6.000000</td>\n",
       "      <td>NaN</td>\n",
       "      <td>...</td>\n",
       "      <td>10.000000</td>\n",
       "      <td>10.000000</td>\n",
       "      <td>10.000000</td>\n",
       "      <td>10.000000</td>\n",
       "      <td>9.000000</td>\n",
       "      <td>12.000000</td>\n",
       "      <td>12.000000</td>\n",
       "      <td>0.000000</td>\n",
       "      <td>0.000000</td>\n",
       "      <td>0.340000</td>\n",
       "    </tr>\n",
       "    <tr>\n",
       "      <th>75%</th>\n",
       "      <td>3.782280e+07</td>\n",
       "      <td>2.020092e+13</td>\n",
       "      <td>1.516679e+08</td>\n",
       "      <td>111.000000</td>\n",
       "      <td>111.000000</td>\n",
       "      <td>NaN</td>\n",
       "      <td>39.797413</td>\n",
       "      <td>3.145215</td>\n",
       "      <td>8.000000</td>\n",
       "      <td>NaN</td>\n",
       "      <td>...</td>\n",
       "      <td>10.000000</td>\n",
       "      <td>10.000000</td>\n",
       "      <td>10.000000</td>\n",
       "      <td>10.000000</td>\n",
       "      <td>10.000000</td>\n",
       "      <td>89.000000</td>\n",
       "      <td>89.000000</td>\n",
       "      <td>0.000000</td>\n",
       "      <td>0.000000</td>\n",
       "      <td>0.820000</td>\n",
       "    </tr>\n",
       "    <tr>\n",
       "      <th>max</th>\n",
       "      <td>4.549921e+07</td>\n",
       "      <td>2.020092e+13</td>\n",
       "      <td>3.679802e+08</td>\n",
       "      <td>1136.000000</td>\n",
       "      <td>1136.000000</td>\n",
       "      <td>NaN</td>\n",
       "      <td>39.930650</td>\n",
       "      <td>3.475520</td>\n",
       "      <td>16.000000</td>\n",
       "      <td>NaN</td>\n",
       "      <td>...</td>\n",
       "      <td>10.000000</td>\n",
       "      <td>10.000000</td>\n",
       "      <td>10.000000</td>\n",
       "      <td>10.000000</td>\n",
       "      <td>10.000000</td>\n",
       "      <td>912.000000</td>\n",
       "      <td>906.000000</td>\n",
       "      <td>40.000000</td>\n",
       "      <td>4.000000</td>\n",
       "      <td>13.900000</td>\n",
       "    </tr>\n",
       "  </tbody>\n",
       "</table>\n",
       "<p>8 rows × 40 columns</p>\n",
       "</div>"
      ],
      "text/plain": [
       "                 id     scrape_id       host_id  host_listings_count  \\\n",
       "count  1.760800e+04  1.760800e+04  1.760800e+04         17606.000000   \n",
       "mean   2.610029e+07  2.020092e+13  1.012201e+08           130.200784   \n",
       "std    1.291263e+07  5.093895e+00  9.453596e+07           246.651175   \n",
       "min    1.154700e+04  2.020092e+13  4.294200e+04             0.000000   \n",
       "25%    1.661385e+07  2.020092e+13  2.116003e+07             2.000000   \n",
       "50%    2.598639e+07  2.020092e+13  8.063674e+07            15.000000   \n",
       "75%    3.782280e+07  2.020092e+13  1.516679e+08           111.000000   \n",
       "max    4.549921e+07  2.020092e+13  3.679802e+08          1136.000000   \n",
       "\n",
       "       host_total_listings_count  neighbourhood_group_cleansed      latitude  \\\n",
       "count               17606.000000                           0.0  17608.000000   \n",
       "mean                  130.200784                           NaN     39.657597   \n",
       "std                   246.651175                           NaN      0.165577   \n",
       "min                     0.000000                           NaN     39.301970   \n",
       "25%                     2.000000                           NaN     39.543433   \n",
       "50%                    15.000000                           NaN     39.670285   \n",
       "75%                   111.000000                           NaN     39.797413   \n",
       "max                  1136.000000                           NaN     39.930650   \n",
       "\n",
       "          longitude  accommodates  bathrooms  ...  review_scores_cleanliness  \\\n",
       "count  17608.000000  17608.000000        0.0  ...               10953.000000   \n",
       "mean       2.994115      5.857962        NaN  ...                   9.413677   \n",
       "std        0.246129      2.727737        NaN  ...                   1.003310   \n",
       "min        2.346500      0.000000        NaN  ...                   2.000000   \n",
       "25%        2.796892      4.000000        NaN  ...                   9.000000   \n",
       "50%        3.047310      6.000000        NaN  ...                  10.000000   \n",
       "75%        3.145215      8.000000        NaN  ...                  10.000000   \n",
       "max        3.475520     16.000000        NaN  ...                  10.000000   \n",
       "\n",
       "       review_scores_checkin  review_scores_communication  \\\n",
       "count           10949.000000                 10951.000000   \n",
       "mean                9.684263                     9.636654   \n",
       "std                 0.819335                     0.905450   \n",
       "min                 2.000000                     2.000000   \n",
       "25%                10.000000                    10.000000   \n",
       "50%                10.000000                    10.000000   \n",
       "75%                10.000000                    10.000000   \n",
       "max                10.000000                    10.000000   \n",
       "\n",
       "       review_scores_location  review_scores_value  \\\n",
       "count            10950.000000         10949.000000   \n",
       "mean                 9.496256             9.182665   \n",
       "std                  0.819512             1.026444   \n",
       "min                  2.000000             2.000000   \n",
       "25%                  9.000000             9.000000   \n",
       "50%                 10.000000             9.000000   \n",
       "75%                 10.000000            10.000000   \n",
       "max                 10.000000            10.000000   \n",
       "\n",
       "       calculated_host_listings_count  \\\n",
       "count                    17608.000000   \n",
       "mean                        96.601090   \n",
       "std                        207.110669   \n",
       "min                          1.000000   \n",
       "25%                          2.000000   \n",
       "50%                         12.000000   \n",
       "75%                         89.000000   \n",
       "max                        912.000000   \n",
       "\n",
       "       calculated_host_listings_count_entire_homes  \\\n",
       "count                                 17608.000000   \n",
       "mean                                     95.714959   \n",
       "std                                     206.103619   \n",
       "min                                       0.000000   \n",
       "25%                                       1.000000   \n",
       "50%                                      12.000000   \n",
       "75%                                      89.000000   \n",
       "max                                     906.000000   \n",
       "\n",
       "       calculated_host_listings_count_private_rooms  \\\n",
       "count                                  17608.000000   \n",
       "mean                                       0.782031   \n",
       "std                                        2.608507   \n",
       "min                                        0.000000   \n",
       "25%                                        0.000000   \n",
       "50%                                        0.000000   \n",
       "75%                                        0.000000   \n",
       "max                                       40.000000   \n",
       "\n",
       "       calculated_host_listings_count_shared_rooms  reviews_per_month  \n",
       "count                                 17608.000000       11173.000000  \n",
       "mean                                      0.004203           0.615099  \n",
       "std                                       0.098748           0.777632  \n",
       "min                                       0.000000           0.010000  \n",
       "25%                                       0.000000           0.130000  \n",
       "50%                                       0.000000           0.340000  \n",
       "75%                                       0.000000           0.820000  \n",
       "max                                       4.000000          13.900000  \n",
       "\n",
       "[8 rows x 40 columns]"
      ]
     },
     "execution_count": 5,
     "metadata": {},
     "output_type": "execute_result"
    }
   ],
   "source": [
    "df.describe() # Información sobre cada variable"
   ]
  },
  {
   "cell_type": "markdown",
   "metadata": {},
   "source": [
    "### Miramos qué tipo de variables es cada columna"
   ]
  },
  {
   "cell_type": "code",
   "execution_count": 6,
   "metadata": {
    "scrolled": true
   },
   "outputs": [
    {
     "name": "stdout",
     "output_type": "stream",
     "text": [
      "<class 'pandas.core.frame.DataFrame'>\n",
      "RangeIndex: 17608 entries, 0 to 17607\n",
      "Data columns (total 74 columns):\n",
      " #   Column                                        Non-Null Count  Dtype  \n",
      "---  ------                                        --------------  -----  \n",
      " 0   id                                            17608 non-null  int64  \n",
      " 1   listing_url                                   17608 non-null  object \n",
      " 2   scrape_id                                     17608 non-null  int64  \n",
      " 3   last_scraped                                  17608 non-null  object \n",
      " 4   name                                          17607 non-null  object \n",
      " 5   description                                   17393 non-null  object \n",
      " 6   neighborhood_overview                         8213 non-null   object \n",
      " 7   picture_url                                   17608 non-null  object \n",
      " 8   host_id                                       17608 non-null  int64  \n",
      " 9   host_url                                      17608 non-null  object \n",
      " 10  host_name                                     17606 non-null  object \n",
      " 11  host_since                                    17606 non-null  object \n",
      " 12  host_location                                 17572 non-null  object \n",
      " 13  host_about                                    11696 non-null  object \n",
      " 14  host_response_time                            15862 non-null  object \n",
      " 15  host_response_rate                            15862 non-null  object \n",
      " 16  host_acceptance_rate                          16098 non-null  object \n",
      " 17  host_is_superhost                             17606 non-null  object \n",
      " 18  host_thumbnail_url                            17606 non-null  object \n",
      " 19  host_picture_url                              17606 non-null  object \n",
      " 20  host_neighbourhood                            364 non-null    object \n",
      " 21  host_listings_count                           17606 non-null  float64\n",
      " 22  host_total_listings_count                     17606 non-null  float64\n",
      " 23  host_verifications                            17608 non-null  object \n",
      " 24  host_has_profile_pic                          17606 non-null  object \n",
      " 25  host_identity_verified                        17606 non-null  object \n",
      " 26  neighbourhood                                 8213 non-null   object \n",
      " 27  neighbourhood_cleansed                        17608 non-null  object \n",
      " 28  neighbourhood_group_cleansed                  0 non-null      float64\n",
      " 29  latitude                                      17608 non-null  float64\n",
      " 30  longitude                                     17608 non-null  float64\n",
      " 31  property_type                                 17608 non-null  object \n",
      " 32  room_type                                     17608 non-null  object \n",
      " 33  accommodates                                  17608 non-null  int64  \n",
      " 34  bathrooms                                     0 non-null      float64\n",
      " 35  bathrooms_text                                17600 non-null  object \n",
      " 36  bedrooms                                      17333 non-null  float64\n",
      " 37  beds                                          17511 non-null  float64\n",
      " 38  amenities                                     17608 non-null  object \n",
      " 39  price                                         17608 non-null  object \n",
      " 40  minimum_nights                                17608 non-null  int64  \n",
      " 41  maximum_nights                                17608 non-null  int64  \n",
      " 42  minimum_minimum_nights                        17608 non-null  int64  \n",
      " 43  maximum_minimum_nights                        17608 non-null  int64  \n",
      " 44  minimum_maximum_nights                        17608 non-null  int64  \n",
      " 45  maximum_maximum_nights                        17608 non-null  int64  \n",
      " 46  minimum_nights_avg_ntm                        17608 non-null  float64\n",
      " 47  maximum_nights_avg_ntm                        17608 non-null  float64\n",
      " 48  calendar_updated                              0 non-null      float64\n",
      " 49  has_availability                              17608 non-null  object \n",
      " 50  availability_30                               17608 non-null  int64  \n",
      " 51  availability_60                               17608 non-null  int64  \n",
      " 52  availability_90                               17608 non-null  int64  \n",
      " 53  availability_365                              17608 non-null  int64  \n",
      " 54  calendar_last_scraped                         17608 non-null  object \n",
      " 55  number_of_reviews                             17608 non-null  int64  \n",
      " 56  number_of_reviews_ltm                         17608 non-null  int64  \n",
      " 57  number_of_reviews_l30d                        17608 non-null  int64  \n",
      " 58  first_review                                  11173 non-null  object \n",
      " 59  last_review                                   11173 non-null  object \n",
      " 60  review_scores_rating                          10957 non-null  float64\n",
      " 61  review_scores_accuracy                        10951 non-null  float64\n",
      " 62  review_scores_cleanliness                     10953 non-null  float64\n",
      " 63  review_scores_checkin                         10949 non-null  float64\n",
      " 64  review_scores_communication                   10951 non-null  float64\n",
      " 65  review_scores_location                        10950 non-null  float64\n",
      " 66  review_scores_value                           10949 non-null  float64\n",
      " 67  license                                       11431 non-null  object \n",
      " 68  instant_bookable                              17608 non-null  object \n",
      " 69  calculated_host_listings_count                17608 non-null  int64  \n",
      " 70  calculated_host_listings_count_entire_homes   17608 non-null  int64  \n",
      " 71  calculated_host_listings_count_private_rooms  17608 non-null  int64  \n",
      " 72  calculated_host_listings_count_shared_rooms   17608 non-null  int64  \n",
      " 73  reviews_per_month                             11173 non-null  float64\n",
      "dtypes: float64(19), int64(21), object(34)\n",
      "memory usage: 9.9+ MB\n"
     ]
    }
   ],
   "source": [
    "df.info()"
   ]
  },
  {
   "cell_type": "markdown",
   "metadata": {},
   "source": [
    "### Comprobamos las características del target a conseguir"
   ]
  },
  {
   "cell_type": "code",
   "execution_count": 7,
   "metadata": {
    "scrolled": true
   },
   "outputs": [
    {
     "data": {
      "text/plain": [
       "count       17608\n",
       "unique       1162\n",
       "top       $150.00\n",
       "freq          304\n",
       "Name: price, dtype: object"
      ]
     },
     "execution_count": 7,
     "metadata": {},
     "output_type": "execute_result"
    }
   ],
   "source": [
    "df['price'].describe()"
   ]
  },
  {
   "cell_type": "markdown",
   "metadata": {},
   "source": [
    "### Miramos las características de los hosts"
   ]
  },
  {
   "cell_type": "code",
   "execution_count": 8,
   "metadata": {},
   "outputs": [
    {
     "name": "stdout",
     "output_type": "stream",
     "text": [
      "True\n",
      "False\n",
      "3.176619159300018\n"
     ]
    }
   ],
   "source": [
    "# Unique ID\n",
    "print(len(df[\"id\"].unique()) == len(df))\n",
    "# Unique host ID\n",
    "print(len(df[\"host_id\"].unique()) == len(df))\n",
    "# Proporcion\n",
    "print(len(df[\"id\"].unique())/len(df[\"host_id\"].unique()))"
   ]
  },
  {
   "cell_type": "markdown",
   "metadata": {},
   "source": [
    "Como podemos observar hay más pisos en alquiler que personas que lo alquilan, de media hay 3.17 pisos por cada casero."
   ]
  },
  {
   "cell_type": "markdown",
   "metadata": {},
   "source": [
    "### Cambiamos el tipo de la variable a conseguir a flotante"
   ]
  },
  {
   "cell_type": "code",
   "execution_count": 9,
   "metadata": {
    "scrolled": true
   },
   "outputs": [
    {
     "data": {
      "text/plain": [
       "<AxesSubplot:xlabel='price'>"
      ]
     },
     "execution_count": 9,
     "metadata": {},
     "output_type": "execute_result"
    },
    {
     "data": {
      "image/png": "[encoded data removed]",
      "text/plain": [
       "<Figure size 432x288 with 1 Axes>"
      ]
     },
     "metadata": {
      "needs_background": "light"
     },
     "output_type": "display_data"
    }
   ],
   "source": [
    "# Replace united states system\n",
    "dummy = df['price'].copy()\n",
    "for i in range(len(dummy)):\n",
    "    dummy.iloc[i] = dummy.iloc[i].replace('$', '')\n",
    "    dummy.iloc[i] = dummy.iloc[i].replace(',', '')\n",
    "df['price'] = dummy.astype(float)\n",
    "df['price'].describe()\n",
    "#histogram\n",
    "sb.distplot(df['price'])"
   ]
  },
  {
   "cell_type": "markdown",
   "metadata": {},
   "source": [
    "### Comprobamos la relevancia del precio segun la ubicación"
   ]
  },
  {
   "cell_type": "code",
   "execution_count": 10,
   "metadata": {},
   "outputs": [
    {
     "data": {
      "text/plain": [
       "<AxesSubplot:xlabel='longitude', ylabel='latitude'>"
      ]
     },
     "execution_count": 10,
     "metadata": {},
     "output_type": "execute_result"
    },
    {
     "data": {
      "image/png": "[encoded data removed]",
      "text/plain": [
       "<Figure size 432x288 with 2 Axes>"
      ]
     },
     "metadata": {
      "needs_background": "light"
     },
     "output_type": "display_data"
    }
   ],
   "source": [
    "df.plot.scatter(x='longitude', y='latitude', c='price', cmap = 'Wistia')"
   ]
  },
  {
   "cell_type": "markdown",
   "metadata": {},
   "source": [
    "Al tener unos pocos valores con precios desorbitados, graficamos teniendo en cuenta un rango más bajo y \n",
    "vemos que la costa y la sierra, como es lógico, tiene precios más caros."
   ]
  },
  {
   "cell_type": "code",
   "execution_count": 11,
   "metadata": {
    "scrolled": true
   },
   "outputs": [
    {
     "data": {
      "text/plain": [
       "<AxesSubplot:xlabel='longitude', ylabel='latitude'>"
      ]
     },
     "execution_count": 11,
     "metadata": {},
     "output_type": "execute_result"
    },
    {
     "data": {
      "image/png": "[encoded data removed]",
      "text/plain": [
       "<Figure size 432x288 with 2 Axes>"
      ]
     },
     "metadata": {
      "needs_background": "light"
     },
     "output_type": "display_data"
    }
   ],
   "source": [
    "df[df['price']<5000].plot.scatter(x='longitude', y='latitude', c='price', cmap = 'Wistia')"
   ]
  },
  {
   "cell_type": "markdown",
   "metadata": {},
   "source": [
    "## Preparar datos"
   ]
  },
  {
   "cell_type": "markdown",
   "metadata": {},
   "source": [
    "Comprobamos qué valores son de tipo objeto."
   ]
  },
  {
   "cell_type": "code",
   "execution_count": 12,
   "metadata": {},
   "outputs": [
    {
     "name": "stdout",
     "output_type": "stream",
     "text": [
      "                                 listing_url last_scraped  \\\n",
      "0         https://www.airbnb.com/rooms/11547   2020-09-21   \n",
      "1        https://www.airbnb.com/rooms/100831   2020-09-21   \n",
      "2        https://www.airbnb.com/rooms/105891   2020-09-20   \n",
      "3        https://www.airbnb.com/rooms/106833   2020-09-20   \n",
      "4        https://www.airbnb.com/rooms/130669   2020-09-20   \n",
      "...                                      ...          ...   \n",
      "17603  https://www.airbnb.com/rooms/45489412   2020-09-20   \n",
      "17604  https://www.airbnb.com/rooms/45489550   2020-09-20   \n",
      "17605  https://www.airbnb.com/rooms/45493152   2020-09-20   \n",
      "17606  https://www.airbnb.com/rooms/45496032   2020-09-21   \n",
      "17607  https://www.airbnb.com/rooms/45499210   2020-09-20   \n",
      "\n",
      "                                                    name  \\\n",
      "0                                   My home at the beach   \n",
      "1                      HOUSE IN MALLORCA - WiFi(ET-3045)   \n",
      "2            VILLAGE HOUSE WITH POOL: IDEAL FOR FAMILIES   \n",
      "3                      Villa with a big pool in Mallorca   \n",
      "4                                   Room great apartment   \n",
      "...                                                  ...   \n",
      "17603                                      Villa Mariona   \n",
      "17604  Holiday Home El Clavet with Mountain View, Wi-...   \n",
      "17605                Es Molinet Selva villa Mallorca 197   \n",
      "17606  Hab. con terraza y baño privado,piscina compar...   \n",
      "17607                     Bonita Casa Adosada con Jardín   \n",
      "\n",
      "                                             description  \\\n",
      "0      Sun, joy, relax, quality, beach & peace.<br />...   \n",
      "1      <b>The space</b><br />House situated in a quie...   \n",
      "2      The house is a street on the outskirts of the ...   \n",
      "3      <b>The space</b><br />This is a restored old b...   \n",
      "4      Located in a residential neighbourhood and 10m...   \n",
      "...                                                  ...   \n",
      "17603  Modern and comfortable villa for 6 people comp...   \n",
      "17604  Located between Pollença and Port de Pollença,...   \n",
      "17605  Magnificent finca with pool, garden and great ...   \n",
      "17606                                                NaN   \n",
      "17607                                                NaN   \n",
      "\n",
      "                                   neighborhood_overview  \\\n",
      "0                                                    NaN   \n",
      "1                                                    NaN   \n",
      "2      The village's population does not reach two th...   \n",
      "3                                                    NaN   \n",
      "4      Located in the center of the city, within minu...   \n",
      "...                                                  ...   \n",
      "17603                                                NaN   \n",
      "17604                                                NaN   \n",
      "17605                                                NaN   \n",
      "17606  Habitación doble a la entrada del puerto muy c...   \n",
      "17607                                                NaN   \n",
      "\n",
      "                                             picture_url  \\\n",
      "0      https://a0.muscache.com/pictures/494126/8c151b...   \n",
      "1      https://a0.muscache.com/pictures/675527/72b329...   \n",
      "2      https://a0.muscache.com/pictures/1036816/f36ce...   \n",
      "3      https://a0.muscache.com/pictures/710218/98134c...   \n",
      "4      https://a0.muscache.com/pictures/866653/58dc48...   \n",
      "...                                                  ...   \n",
      "17603  https://a0.muscache.com/pictures/105faa9b-5315...   \n",
      "17604  https://a0.muscache.com/pictures/f7e347f8-894c...   \n",
      "17605  https://a0.muscache.com/pictures/2473f78b-359e...   \n",
      "17606  https://a0.muscache.com/pictures/2dd9c712-7b01...   \n",
      "17607  https://a0.muscache.com/pictures/c2f63ec4-fce6...   \n",
      "\n",
      "                                          host_url  \\\n",
      "0          https://www.airbnb.com/users/show/42942   \n",
      "1         https://www.airbnb.com/users/show/529151   \n",
      "2         https://www.airbnb.com/users/show/549192   \n",
      "3         https://www.airbnb.com/users/show/551974   \n",
      "4         https://www.airbnb.com/users/show/643065   \n",
      "...                                            ...   \n",
      "17603  https://www.airbnb.com/users/show/131594018   \n",
      "17604  https://www.airbnb.com/users/show/285670200   \n",
      "17605    https://www.airbnb.com/users/show/3893191   \n",
      "17606  https://www.airbnb.com/users/show/350176105   \n",
      "17607   https://www.airbnb.com/users/show/67725432   \n",
      "\n",
      "                                 host_name  host_since  \\\n",
      "0                                   Daniel  2009-10-02   \n",
      "1                                   Miguel  2011-04-23   \n",
      "2                                 Bartomeu  2011-05-01   \n",
      "3                                    Xisco  2011-05-02   \n",
      "4                                     Nick  2011-05-30   \n",
      "...                                    ...         ...   \n",
      "17603          Mallorca Holiday Properties  2017-05-23   \n",
      "17604                             Bookiply  2019-08-14   \n",
      "17605  Antoni Mallorca Charme Home Rentals  2012-10-16   \n",
      "17606                             Gabriele  2020-06-15   \n",
      "17607                                 Juan  2016-04-18   \n",
      "\n",
      "                                           host_location  ...  \\\n",
      "0                                Balearic Islands, Spain  ...   \n",
      "1                                               Mallorca  ...   \n",
      "2                        Ariany, Balearic Islands, Spain  ...   \n",
      "3             Palma de Mallorca, Balearic Islands, Spain  ...   \n",
      "4             Palma de Mallorca, Balearic Islands, Spain  ...   \n",
      "...                                                  ...  ...   \n",
      "17603  Av. Príncipes de España 4A,  Alcudia, 07400 Is...  ...   \n",
      "17604                                                 DE  ...   \n",
      "17605                         Muro, Illes Balears, Spain  ...   \n",
      "17606               Port d'Andratx, Illes Balears, Spain  ...   \n",
      "17607                                                 ES  ...   \n",
      "\n",
      "                   property_type        room_type bathrooms_text  \\\n",
      "0               Entire apartment  Entire home/apt         1 bath   \n",
      "1                   Entire house  Entire home/apt        3 baths   \n",
      "2               Entire townhouse  Entire home/apt        2 baths   \n",
      "3                   Entire villa  Entire home/apt         1 bath   \n",
      "4      Private room in apartment     Private room         1 bath   \n",
      "...                          ...              ...            ...   \n",
      "17603               Entire villa  Entire home/apt      3.5 baths   \n",
      "17604               Entire villa  Entire home/apt        3 baths   \n",
      "17605               Entire villa  Entire home/apt        2 baths   \n",
      "17606  Private room in apartment     Private room         1 bath   \n",
      "17607           Entire apartment  Entire home/apt        2 baths   \n",
      "\n",
      "                                               amenities has_availability  \\\n",
      "0      [\"Oven\", \"Wifi\", \"Coffee maker\", \"Dishes and s...                t   \n",
      "1      [\"First aid kit\", \"Hair dryer\", \"Iron\", \"Washe...                t   \n",
      "2      [\"Smoke alarm\", \"Oven\", \"Wifi\", \"Garden or bac...                t   \n",
      "3      [\"Pool\", \"Free parking on premises\", \"Air cond...                t   \n",
      "4      [\"Pool\", \"Washer\", \"Air conditioning\", \"Kitche...                t   \n",
      "...                                                  ...              ...   \n",
      "17603  [\"Oven\", \"Wifi\", \"Garden or backyard\", \"Coffee...                t   \n",
      "17604  [\"Hair dryer\", \"Washer\", \"Free parking on prem...                t   \n",
      "17605  [\"Oven\", \"Wifi\", \"Garden or backyard\", \"Coffee...                t   \n",
      "17606  [\"Oven\", \"Bread maker\", \"Extra pillows and bla...                t   \n",
      "17607  [\"First aid kit\", \"Hair dryer\", \"Iron\", \"Washe...                t   \n",
      "\n",
      "      calendar_last_scraped first_review last_review      license  \\\n",
      "0                2020-09-21   2011-08-23  2020-09-06          NaN   \n",
      "1                2020-09-21   2019-01-18  2020-01-25     ETV-3045   \n",
      "2                2020-09-20   2012-06-19  2019-09-03     ETV/6127   \n",
      "3                2020-09-20   2012-06-05  2018-08-13      ET/1961   \n",
      "4                2020-09-20          NaN         NaN          NaN   \n",
      "...                     ...          ...         ...          ...   \n",
      "17603            2020-09-20          NaN         NaN  LIZE84/2017   \n",
      "17604            2020-09-20          NaN         NaN          NaN   \n",
      "17605            2020-09-20          NaN         NaN     00551ETV   \n",
      "17606            2020-09-21          NaN         NaN          NaN   \n",
      "17607            2020-09-20          NaN         NaN          NaN   \n",
      "\n",
      "      instant_bookable  \n",
      "0                    f  \n",
      "1                    t  \n",
      "2                    t  \n",
      "3                    f  \n",
      "4                    t  \n",
      "...                ...  \n",
      "17603                t  \n",
      "17604                t  \n",
      "17605                t  \n",
      "17606                t  \n",
      "17607                f  \n",
      "\n",
      "[17608 rows x 33 columns]\n"
     ]
    }
   ],
   "source": [
    "print(df.select_dtypes(include=['object']))"
   ]
  },
  {
   "cell_type": "markdown",
   "metadata": {},
   "source": [
    "Se eliminan los que no puedan contribuir a la predicción del precio del alquiler."
   ]
  },
  {
   "cell_type": "code",
   "execution_count": 13,
   "metadata": {},
   "outputs": [],
   "source": [
    "to_drop = ['id','listing_url','scrape_id','description','picture_url',\n",
    "           'host_id','host_url', 'host_name','host_thumbnail_url',\n",
    "           'host_picture_url', 'calendar_updated', 'name', 'neighborhood_overview',\n",
    "           'host_about', 'bathrooms', 'neighbourhood_group_cleansed']\n",
    "df.drop(columns=to_drop, inplace=True)"
   ]
  },
  {
   "cell_type": "markdown",
   "metadata": {},
   "source": [
    "### Se comprueba qué valores tienen valores sin rellenar"
   ]
  },
  {
   "cell_type": "code",
   "execution_count": 14,
   "metadata": {},
   "outputs": [
    {
     "name": "stdout",
     "output_type": "stream",
     "text": [
      "Train Missing field rate (sorted):\n"
     ]
    },
    {
     "data": {
      "text/plain": [
       "host_neighbourhood             0.979328\n",
       "neighbourhood                  0.533564\n",
       "review_scores_value            0.378180\n",
       "review_scores_checkin          0.378180\n",
       "review_scores_location         0.378124\n",
       "review_scores_communication    0.378067\n",
       "review_scores_accuracy         0.378067\n",
       "review_scores_cleanliness      0.377953\n",
       "review_scores_rating           0.377726\n",
       "reviews_per_month              0.365459\n",
       "last_review                    0.365459\n",
       "first_review                   0.365459\n",
       "license                        0.350806\n",
       "host_response_time             0.099159\n",
       "host_response_rate             0.099159\n",
       "host_acceptance_rate           0.085756\n",
       "bedrooms                       0.015618\n",
       "beds                           0.005509\n",
       "host_location                  0.002045\n",
       "bathrooms_text                 0.000454\n",
       "host_is_superhost              0.000114\n",
       "host_listings_count            0.000114\n",
       "host_total_listings_count      0.000114\n",
       "host_has_profile_pic           0.000114\n",
       "host_identity_verified         0.000114\n",
       "host_since                     0.000114\n",
       "dtype: float64"
      ]
     },
     "execution_count": 14,
     "metadata": {},
     "output_type": "execute_result"
    }
   ],
   "source": [
    "data_missing = df.isna()\n",
    "data_missing = data_missing.sum()\n",
    "data_missing = data_missing / len(df)\n",
    "print(\"Train Missing field rate (sorted):\")\n",
    "data_missing[data_missing > 0.0].sort_values(ascending=False)"
   ]
  },
  {
   "cell_type": "markdown",
   "metadata": {},
   "source": [
    "Se sistituyen los valores sin rellenar por los valores más frecuentes. Se había probado sustituir por 0 pero no se obtiene un buen resultado."
   ]
  },
  {
   "cell_type": "code",
   "execution_count": 15,
   "metadata": {
    "scrolled": true
   },
   "outputs": [],
   "source": [
    "for col in df.columns:\n",
    "    df[col] = df[col].fillna(df[col].value_counts().index[0])"
   ]
  },
  {
   "cell_type": "markdown",
   "metadata": {},
   "source": [
    "### Se transforman los datos"
   ]
  },
  {
   "cell_type": "markdown",
   "metadata": {},
   "source": [
    "Se transforman los datos de las variables:\n",
    "* Las que implican fechas por un valor entero que se extrae de una suma y multiplicación para que tenga una secuencia lógica.\n",
    "* Las que tienen una lista de características por una longitud, al tener más ítems mayor debería ser su valor en la mayoría de casos.\n",
    "* Las que tienen un porcentaje para volverla un tipo entero.\n",
    "* Las que cuentan los baños para solo quedarnos con "
   ]
  },
  {
   "cell_type": "code",
   "execution_count": 16,
   "metadata": {},
   "outputs": [],
   "source": [
    "def to_integer(dt_time):\n",
    "    date_time = datetime.datetime.strptime(dt_time, '%Y-%m-%d')\n",
    "    return 10000*date_time.year + 100*date_time.month + date_time.day\n",
    "\n",
    "def transform_date(data):\n",
    "    dummy = data.copy()\n",
    "    for i in range(len(dummy)):\n",
    "        if dummy.iloc[i]!=0:\n",
    "            dummy.iloc[i] = to_integer(dummy.iloc[i])\n",
    "    dummy = dummy.astype(int)\n",
    "    return dummy\n",
    "\n",
    "def transform_len(data):\n",
    "    dummy = data.copy()\n",
    "    for i in range(len(dummy)):\n",
    "        if dummy.iloc[i]!=0:\n",
    "            dummy.iloc[i] = len(dummy.iloc[i].split(sep=','))\n",
    "    return dummy\n",
    "\n",
    "def transform_x100(data):\n",
    "    dummy = data.copy()\n",
    "    for i in range(len(dummy)):\n",
    "        if dummy.iloc[i]!=0:\n",
    "            dummy.iloc[i] = dummy.iloc[i].replace('%', '')\n",
    "            dummy.iloc[i] = dummy.iloc[i].replace('.', ',')\n",
    "    dummy = dummy.astype(float)\n",
    "    return dummy\n",
    "\n",
    "df['last_scraped'] = transform_date(df['last_scraped'])\n",
    "df['host_since'] = transform_date(df['host_since'])\n",
    "df['calendar_last_scraped'] = transform_date(df['calendar_last_scraped'])\n",
    "df['first_review'] = transform_date(df['first_review'])\n",
    "df['last_review'] = transform_date(df['last_review'])\n",
    "\n",
    "df['host_verifications'] = transform_len(df['host_verifications'])\n",
    "df['amenities'] = transform_len(df['amenities'])\n",
    "\n",
    "df['host_response_rate'] = transform_x100(df['host_response_rate'])\n",
    "df['host_acceptance_rate'] = transform_x100(df['host_acceptance_rate'])\n",
    "\n",
    "dummy = df['bathrooms_text'].copy()\n",
    "for i in range(len(dummy)):\n",
    "    if dummy.iloc[i]!=0:\n",
    "        dummy.iloc[i] = dummy.iloc[i].split(sep=' ')[0]\n",
    "    if dummy.iloc[i] in ['Shared', 'Half-bath', 'Private']:\n",
    "        dummy.iloc[i] = 0.5\n",
    "df['bathrooms_text'] = dummy.astype(float)"
   ]
  },
  {
   "cell_type": "markdown",
   "metadata": {},
   "source": [
    "### Se codifican los valores de tipo objeto categoricas en valores enteros"
   ]
  },
  {
   "cell_type": "code",
   "execution_count": 17,
   "metadata": {},
   "outputs": [],
   "source": [
    "df[df.select_dtypes(include=['object']).columns] = df[df.select_dtypes(include=['object']).columns].astype('category')\n",
    "\n",
    "for col in df.select_dtypes(include=['category']).columns:\n",
    "    df[col] = df[col].cat.codes"
   ]
  },
  {
   "cell_type": "markdown",
   "metadata": {},
   "source": [
    "### Una vez transformadas todas las variables se ordenan en función del precio."
   ]
  },
  {
   "cell_type": "code",
   "execution_count": 18,
   "metadata": {},
   "outputs": [],
   "source": [
    "df.sort_values('price' , inplace = True)\n",
    "df.reset_index(inplace = True)\n",
    "df.drop('index', axis = 1, inplace = True)"
   ]
  },
  {
   "cell_type": "markdown",
   "metadata": {},
   "source": [
    "### Correlación"
   ]
  },
  {
   "cell_type": "markdown",
   "metadata": {},
   "source": [
    "Comprobamos si existe colinealidad entre variables para realizar una buena predicción y que los predictores sean independientes."
   ]
  },
  {
   "cell_type": "code",
   "execution_count": 26,
   "metadata": {},
   "outputs": [
    {
     "data": {
      "text/plain": [
       "<AxesSubplot:>"
      ]
     },
     "execution_count": 26,
     "metadata": {},
     "output_type": "execute_result"
    },
    {
     "data": {
      "image/png": "[encoded data removed]",
      "text/plain": [
       "<Figure size 432x288 with 2 Axes>"
      ]
     },
     "metadata": {
      "needs_background": "light"
     },
     "output_type": "display_data"
    }
   ],
   "source": [
    "collin = abs(df.corr())\n",
    "sb.heatmap(collin[collin > 0.95])"
   ]
  },
  {
   "cell_type": "markdown",
   "metadata": {},
   "source": [
    "Se puede observar como tiene una colinealidad muy evidente el número máximo de noches y mínimo y la disponibilidad con disponibilidad_90 debido a que se han sustituido los valores nulos por los más frecuentes y estos se han repetido."
   ]
  },
  {
   "cell_type": "code",
   "execution_count": 27,
   "metadata": {},
   "outputs": [
    {
     "name": "stdout",
     "output_type": "stream",
     "text": [
      "Index(['host_acceptance_rate', 'host_neighbourhood', 'room_type',\n",
      "       'accommodates', 'bathrooms_text', 'bedrooms', 'beds',\n",
      "       'number_of_reviews', 'number_of_reviews_ltm', 'number_of_reviews_l30d',\n",
      "       'reviews_per_month'],\n",
      "      dtype='object')\n"
     ]
    }
   ],
   "source": [
    "corr = df.corr()\n",
    "significant = corr['price'][abs(corr['price'])>0.1].index\n",
    "significant = significant.drop('price')\n",
    "print(significant)"
   ]
  },
  {
   "cell_type": "markdown",
   "metadata": {},
   "source": [
    "Estas son las variables que tienen un peso significativo en la predicción del precio. igualmente, de momento se probará con todas las variables y se deberían anular las menos significantes con pesos muy cercanos a 0."
   ]
  },
  {
   "cell_type": "markdown",
   "metadata": {},
   "source": [
    "# Modelos"
   ]
  },
  {
   "cell_type": "markdown",
   "metadata": {},
   "source": [
    "### Se cargan las librerías necesarias"
   ]
  },
  {
   "cell_type": "code",
   "execution_count": 28,
   "metadata": {},
   "outputs": [],
   "source": [
    "from sklearn.model_selection import train_test_split, cross_val_score\n",
    "from sklearn.preprocessing import StandardScaler, PolynomialFeatures\n",
    "from sklearn.linear_model import LinearRegression, RidgeCV, LassoCV, ElasticNetCV\n",
    "from sklearn.metrics import mean_absolute_error, r2_score\n",
    "from sklearn.ensemble import RandomForestRegressor"
   ]
  },
  {
   "cell_type": "markdown",
   "metadata": {},
   "source": [
    "## Separar los datos en train y test"
   ]
  },
  {
   "cell_type": "markdown",
   "metadata": {},
   "source": [
    "Se separan las variables con el target y se separan las variables en train y test con la seed de la seed de la respuesta a la vida."
   ]
  },
  {
   "cell_type": "code",
   "execution_count": 29,
   "metadata": {},
   "outputs": [],
   "source": [
    "x = df.loc[:, df.columns != 'price']\n",
    "y = df['price']\n",
    "\n",
    "# Se separan los datos en datos de entrenamiento y de test\n",
    "x_train, x_test, y_train, y_test = train_test_split(x, y, random_state = 42)"
   ]
  },
  {
   "cell_type": "markdown",
   "metadata": {},
   "source": [
    "## Se escalan los datos debido a que los rangos de valores son muy diferentes y algunos de ellos muy extensos."
   ]
  },
  {
   "cell_type": "code",
   "execution_count": 30,
   "metadata": {},
   "outputs": [],
   "source": [
    "scaler = StandardScaler()\n",
    "scaler.fit(x_train)\n",
    "x_train = scaler.transform(x_train)\n",
    "x_test = scaler.transform(x_test)"
   ]
  },
  {
   "cell_type": "markdown",
   "metadata": {},
   "source": [
    "## Regresión lineal"
   ]
  },
  {
   "cell_type": "markdown",
   "metadata": {},
   "source": [
    "### Ajustamos el modelo"
   ]
  },
  {
   "cell_type": "code",
   "execution_count": 31,
   "metadata": {},
   "outputs": [],
   "source": [
    "linear_price = LinearRegression().fit(x_train, y_train)\n",
    "predictions = linear_price.predict(x_test)\n",
    "predictions[predictions<0] = 0"
   ]
  },
  {
   "cell_type": "markdown",
   "metadata": {},
   "source": [
    "### Calculamos el error"
   ]
  },
  {
   "cell_type": "code",
   "execution_count": 32,
   "metadata": {},
   "outputs": [
    {
     "name": "stdout",
     "output_type": "stream",
     "text": [
      "Error medio absoluto: 118.28162080052796\n",
      "Score train: 0.20438370340371137\n",
      "Score test: 0.11838506459193743\n"
     ]
    }
   ],
   "source": [
    "error = mean_absolute_error(y_test, predictions)\n",
    "print(\"Error medio absoluto: \" + str(error))\n",
    "\n",
    "score_train = linear_price.score(x_train, y_train)\n",
    "print(\"Score train: \" + str(score_train))\n",
    "score_test = linear_price.score(x_test, y_test)\n",
    "print(\"Score test: \" + str(score_test))"
   ]
  },
  {
   "cell_type": "markdown",
   "metadata": {},
   "source": [
    "Con ese rango de datos no se obtiene un score significativo y no se puede usar como referencia. Se usará el error como medida de coste."
   ]
  },
  {
   "cell_type": "code",
   "execution_count": 33,
   "metadata": {},
   "outputs": [
    {
     "name": "stdout",
     "output_type": "stream",
     "text": [
      "Variance score: 0.18\n"
     ]
    },
    {
     "data": {
      "image/png": "[encoded data removed]",
      "text/plain": [
       "<Figure size 432x288 with 1 Axes>"
      ]
     },
     "metadata": {
      "needs_background": "light"
     },
     "output_type": "display_data"
    }
   ],
   "source": [
    "x = scaler.transform(x)\n",
    "predictions = linear_price.predict(x)\n",
    "predictions[predictions<0] = 0\n",
    "    \n",
    "print('Variance score: %.2f' % r2_score(y, predictions))\n",
    "error = mean_absolute_error(y, predictions)\n",
    "\n",
    "plt.plot(y)\n",
    "plt.plot(predictions, '*')\n",
    "plt.show()"
   ]
  },
  {
   "cell_type": "markdown",
   "metadata": {},
   "source": [
    "Como se puede observar no generaliza y no predice correctamente los valores de precios altos."
   ]
  },
  {
   "cell_type": "markdown",
   "metadata": {},
   "source": [
    "### Probamos con una combinación de las entradas de grado 2"
   ]
  },
  {
   "cell_type": "code",
   "execution_count": 34,
   "metadata": {},
   "outputs": [
    {
     "name": "stdout",
     "output_type": "stream",
     "text": [
      "Error medio absoluto: 1371719960749.5017\n",
      "Score train: 0.5727654001496463\n",
      "Score test: -2.1807476256341186e+22\n"
     ]
    }
   ],
   "source": [
    "polynomial_features= PolynomialFeatures(degree=2)\n",
    "x_poly = polynomial_features.fit_transform(x)\n",
    "\n",
    "# Se separan los datos en datos de entrenamiento y de test\n",
    "x_train, x_test, y_train, y_test = train_test_split(x_poly, y, random_state = 42)\n",
    "\n",
    "scaler = StandardScaler()\n",
    "scaler.fit(x_train)\n",
    "x_train = scaler.transform(x_train)\n",
    "x_test = scaler.transform(x_test)\n",
    "\n",
    "# Regresion lineal\n",
    "linear_price = LinearRegression().fit(x_train, y_train)\n",
    "predictions = linear_price.predict(x_test)\n",
    "predictions[predictions<0] = 0\n",
    "error = mean_absolute_error(y_test, predictions)\n",
    "print(\"Error medio absoluto: \" + str(error))\n",
    "score_train = linear_price.score(x_train, y_train)\n",
    "print(\"Score train: \" + str(score_train))\n",
    "score_test = linear_price.score(x_test, y_test)\n",
    "print(\"Score test: \" + str(score_test))"
   ]
  },
  {
   "cell_type": "markdown",
   "metadata": {},
   "source": [
    "Como podemos observar que no generaliza bien y que se ajusta a las variables de entrenamiento y hay overfitting."
   ]
  },
  {
   "cell_type": "markdown",
   "metadata": {},
   "source": [
    "###  Probamos quitando los outliers de precio"
   ]
  },
  {
   "cell_type": "code",
   "execution_count": 35,
   "metadata": {},
   "outputs": [
    {
     "data": {
      "text/plain": [
       "{'whiskers': [<matplotlib.lines.Line2D at 0x1d36d44f808>,\n",
       "  <matplotlib.lines.Line2D at 0x1d36d435f88>],\n",
       " 'caps': [<matplotlib.lines.Line2D at 0x1d36d435388>,\n",
       "  <matplotlib.lines.Line2D at 0x1d36d438548>],\n",
       " 'boxes': [<matplotlib.lines.Line2D at 0x1d36d435b08>],\n",
       " 'medians': [<matplotlib.lines.Line2D at 0x1d36d438f48>],\n",
       " 'fliers': [<matplotlib.lines.Line2D at 0x1d36d43fc88>],\n",
       " 'means': []}"
      ]
     },
     "execution_count": 35,
     "metadata": {},
     "output_type": "execute_result"
    },
    {
     "data": {
      "image/png": "[encoded data removed]",
      "text/plain": [
       "<Figure size 432x288 with 1 Axes>"
      ]
     },
     "metadata": {
      "needs_background": "light"
     },
     "output_type": "display_data"
    }
   ],
   "source": [
    "plt.boxplot(y[y<450])"
   ]
  },
  {
   "cell_type": "code",
   "execution_count": 36,
   "metadata": {},
   "outputs": [
    {
     "data": {
      "text/plain": [
       "count    17608.000000\n",
       "mean       244.383561\n",
       "std        409.958169\n",
       "min          0.000000\n",
       "25%        110.000000\n",
       "50%        179.000000\n",
       "75%        275.000000\n",
       "max      20736.000000\n",
       "Name: price, dtype: float64"
      ]
     },
     "execution_count": 36,
     "metadata": {},
     "output_type": "execute_result"
    }
   ],
   "source": [
    "y.describe()"
   ]
  },
  {
   "cell_type": "markdown",
   "metadata": {},
   "source": [
    "Como se puede ver en la gráfica, la mayoría de los valores se encuentran en el rango de 0 a 450 dólares, el resto son valores desorbitados."
   ]
  },
  {
   "cell_type": "code",
   "execution_count": 37,
   "metadata": {},
   "outputs": [
    {
     "name": "stdout",
     "output_type": "stream",
     "text": [
      "Error medio absoluto: 50.76\n",
      "[ 1.55461600e+00 -4.81357522e+00 -1.30187524e+00 -1.94101827e+00\n",
      " -7.29179398e-01 -7.94498549e-02  2.38657483e-01 -2.45961476e+00\n",
      " -3.98563389e+00 -3.98563389e+00 -3.76360826e-01  2.80538803e-01\n",
      "  1.92935644e+00  1.27415716e+00 -1.43744666e+00  4.17694852e+00\n",
      " -2.70465560e+00  1.86682301e+01 -2.40815801e+01  3.71415891e+01\n",
      "  2.35095332e+01  2.37716332e+00 -9.19908889e+00  2.95542551e+00\n",
      " -4.47439025e+00  3.82322244e+00 -5.30653536e+00 -6.42104697e+00\n",
      "  1.89716622e+01 -1.69196343e+01  1.11899218e+01 -7.22154299e-01\n",
      "  2.10336821e-01 -3.79290357e+00  1.35376734e+01 -9.92254717e+00\n",
      "  6.70946793e-01  1.55461600e+00  6.79586855e+00 -4.46360446e+00\n",
      " -4.35162443e+00  1.50687312e+01 -6.10091632e+00  8.66005201e+00\n",
      " -1.22439057e+00  1.69673685e+00 -3.24671466e-01 -5.73938205e-01\n",
      "  2.64511328e+00 -4.95669789e+00  1.91853190e+00 -3.18718288e-01\n",
      "  2.88847365e+02 -2.80940783e+02  1.14341627e-02 -3.66155167e-01\n",
      " -1.02170498e+01]\n",
      "179.75792775626905\n"
     ]
    }
   ],
   "source": [
    "df_low = df[df['price'] < 450]\n",
    "\n",
    "x = df_low.loc[:, df_low.columns != 'price']\n",
    "y = df_low['price']\n",
    "\n",
    "# Se separan los datos en datos de entrenamiento y de test\n",
    "x_train, x_test, y_train, y_test = train_test_split(x, y, random_state = 42)\n",
    "\n",
    "scaler = StandardScaler()\n",
    "scaler.fit(x_train)\n",
    "x_train = scaler.transform(x_train)\n",
    "x_test = scaler.transform(x_test)\n",
    "\n",
    "# Regresion lineal\n",
    "linear_price = LinearRegression().fit(x_train, y_train)\n",
    "predictions = linear_price.predict(x_test)\n",
    "predictions[predictions<0] = 0\n",
    "error = mean_absolute_error(y_test, predictions)\n",
    "print(\"Error medio absoluto: %.2f\" % error)\n",
    "\n",
    "# Coeficientes\n",
    "print(linear_price.coef_)\n",
    "print(linear_price.intercept_)"
   ]
  },
  {
   "cell_type": "markdown",
   "metadata": {},
   "source": [
    "Se obtiene un buen resultado, con sólo 51 dolares de error absoluto de media. Vamos a comprobar cómo se grafica."
   ]
  },
  {
   "cell_type": "code",
   "execution_count": 38,
   "metadata": {},
   "outputs": [
    {
     "name": "stdout",
     "output_type": "stream",
     "text": [
      "Variance score: 0.54\n"
     ]
    },
    {
     "data": {
      "text/plain": [
       "<matplotlib.legend.Legend at 0x1d36d427a08>"
      ]
     },
     "execution_count": 38,
     "metadata": {},
     "output_type": "execute_result"
    },
    {
     "data": {
      "image/png": "[encoded data removed]",
      "text/plain": [
       "<Figure size 432x288 with 1 Axes>"
      ]
     },
     "metadata": {
      "needs_background": "light"
     },
     "output_type": "display_data"
    }
   ],
   "source": [
    "x_graf = scaler.transform(x)\n",
    "predictions = linear_price.predict(x_graf)\n",
    "predictions[predictions<0] = 0\n",
    "    \n",
    "print('Variance score: %.2f' % r2_score(y, predictions))\n",
    "error = mean_absolute_error(y, predictions)\n",
    "\n",
    "plt.plot(y, label = 'Precio real')\n",
    "plt.plot(predictions, '*', label = 'Prediccion')\n",
    "plt.ylabel('Precio')\n",
    "plt.legend()"
   ]
  },
  {
   "cell_type": "markdown",
   "metadata": {},
   "source": [
    "Al haber ordenado la velocidad podemos ver como las predicciones realizadas oscilan alrededor del creciente precio. Este resultado es mucho más prometedor, pero vamos a probar sólo con los campos más significativos."
   ]
  },
  {
   "cell_type": "code",
   "execution_count": 39,
   "metadata": {},
   "outputs": [
    {
     "name": "stdout",
     "output_type": "stream",
     "text": [
      "Error medio absoluto: 54.60\n",
      "Variance score: 0.48\n"
     ]
    },
    {
     "data": {
      "text/plain": [
       "<matplotlib.legend.Legend at 0x1d30e608f48>"
      ]
     },
     "execution_count": 39,
     "metadata": {},
     "output_type": "execute_result"
    },
    {
     "data": {
      "image/png": "[encoded data removed]",
      "text/plain": [
       "<Figure size 432x288 with 1 Axes>"
      ]
     },
     "metadata": {
      "needs_background": "light"
     },
     "output_type": "display_data"
    }
   ],
   "source": [
    "y = df_low['price']\n",
    "df_low = df_low[significant]\n",
    "x = df_low.loc[:, df_low.columns != 'price']\n",
    "\n",
    "# Se separan los datos en datos de entrenamiento y de test\n",
    "x_train, x_test, y_train, y_test = train_test_split(x, y, random_state = 42)\n",
    "\n",
    "scaler = StandardScaler()\n",
    "scaler.fit(x_train)\n",
    "x_train = scaler.transform(x_train)\n",
    "x_test = scaler.transform(x_test)\n",
    "\n",
    "# Regresion lineal\n",
    "linear_price = LinearRegression().fit(x_train, y_train)\n",
    "predictions = linear_price.predict(x_test)\n",
    "predictions[predictions<0] = 0\n",
    "error = mean_absolute_error(y_test, predictions)\n",
    "print(\"Error medio absoluto: %.2f\" % error)\n",
    "\n",
    "x_graf = scaler.transform(x)\n",
    "predictions = linear_price.predict(x_graf)\n",
    "predictions[predictions<0] = 0\n",
    "    \n",
    "print('Variance score: %.2f' % r2_score(y, predictions))\n",
    "error = mean_absolute_error(y, predictions)\n",
    "\n",
    "plt.plot(y, label = 'Precio real')\n",
    "plt.plot(predictions, '*', label = 'Prediccion')\n",
    "plt.ylabel('Precio')\n",
    "plt.legend()"
   ]
  },
  {
   "cell_type": "markdown",
   "metadata": {},
   "source": [
    "Como se esperaba el resultado no dista mucho de lo obtenido con anterioridad. Comprobamos la robustez del modelo aplicando cross validation."
   ]
  },
  {
   "cell_type": "code",
   "execution_count": 42,
   "metadata": {},
   "outputs": [
    {
     "name": "stdout",
     "output_type": "stream",
     "text": [
      "0.46 accuracy with a standard deviation of 0.02\n"
     ]
    }
   ],
   "source": [
    "scores = cross_val_score(linear_price, x_test, y_test)\n",
    "print(\"%0.2f accuracy with a standard deviation of %0.2f\" % (scores.mean(), scores.std()))"
   ]
  },
  {
   "cell_type": "markdown",
   "metadata": {},
   "source": [
    "Se comprueba que se obtiene una precisión del 46 % y una desviación estandard muy baja."
   ]
  },
  {
   "cell_type": "markdown",
   "metadata": {},
   "source": [
    "## Lasso"
   ]
  },
  {
   "cell_type": "markdown",
   "metadata": {},
   "source": [
    "Probamos el algoritmo de regresion Lasso y escogemos una alpha grande para reducir muchos de los coeficientes anteriores a 0."
   ]
  },
  {
   "cell_type": "code",
   "execution_count": 43,
   "metadata": {},
   "outputs": [
    {
     "name": "stdout",
     "output_type": "stream",
     "text": [
      "Mejor alpha: 0.10\n",
      "Error medio absoluto: 50.78\n"
     ]
    }
   ],
   "source": [
    "df_low = df[df['price'] < 450]\n",
    "\n",
    "x = df_low.loc[:, df_low.columns != 'price']\n",
    "y = df_low['price']\n",
    "\n",
    "# Se separan los datos en datos de entrenamiento y de test\n",
    "x_train, x_test, y_train, y_test = train_test_split(x, y, random_state = 42)\n",
    "\n",
    "scaler = StandardScaler()\n",
    "scaler.fit(x_train)\n",
    "x_train = scaler.transform(x_train)\n",
    "x_test = scaler.transform(x_test)\n",
    "\n",
    "alphas = [1000, 100, 50, 20, 10, 1, 0.1, 0.01]\n",
    "lasso = LassoCV(alphas= alphas).fit(x_train, y_train)\n",
    "predictions = lasso.predict(x_test)\n",
    "predictions[predictions<0] = 0\n",
    "print(\"Mejor alpha: %.2f\" % lasso.alpha_)\n",
    "error = mean_absolute_error(y_test, predictions)\n",
    "print(\"Error medio absoluto: %.2f\" % error)"
   ]
  },
  {
   "cell_type": "markdown",
   "metadata": {},
   "source": [
    "Se obtiene el mismo resultado que con la regressión lineal simple ya que el valor de alpha es muy bajo y practicamente no se elimina nada. Probamos con otro modelo."
   ]
  },
  {
   "cell_type": "markdown",
   "metadata": {},
   "source": [
    "## ElasticNet"
   ]
  },
  {
   "cell_type": "markdown",
   "metadata": {},
   "source": [
    "Probamos elasticNet auque no es un modelo favorable ya que tenemos muchas variables y bastantes datos."
   ]
  },
  {
   "cell_type": "code",
   "execution_count": 44,
   "metadata": {},
   "outputs": [
    {
     "name": "stderr",
     "output_type": "stream",
     "text": [
      "C:\\Users\\Alexandre\\Anaconda3\\lib\\site-packages\\sklearn\\linear_model\\_coordinate_descent.py:527: ConvergenceWarning: Objective did not converge. You might want to increase the number of iterations. Duality gap: 31926.006341531873, tolerance: 9061.297135746237\n",
      "  tol, rng, random, positive)\n",
      "C:\\Users\\Alexandre\\Anaconda3\\lib\\site-packages\\sklearn\\linear_model\\_coordinate_descent.py:527: ConvergenceWarning: Objective did not converge. You might want to increase the number of iterations. Duality gap: 14800.620866596699, tolerance: 8920.103626845634\n",
      "  tol, rng, random, positive)\n",
      "C:\\Users\\Alexandre\\Anaconda3\\lib\\site-packages\\sklearn\\linear_model\\_coordinate_descent.py:527: ConvergenceWarning: Objective did not converge. You might want to increase the number of iterations. Duality gap: 18996.81406017393, tolerance: 9011.453486514449\n",
      "  tol, rng, random, positive)\n",
      "C:\\Users\\Alexandre\\Anaconda3\\lib\\site-packages\\sklearn\\linear_model\\_coordinate_descent.py:527: ConvergenceWarning: Objective did not converge. You might want to increase the number of iterations. Duality gap: 12180.457628525794, tolerance: 9013.225423681612\n",
      "  tol, rng, random, positive)\n"
     ]
    },
    {
     "name": "stdout",
     "output_type": "stream",
     "text": [
      "Mejor alpha: 0.10\n",
      "Mejor ratio: 0.90\n",
      "Error medio absoluto: 50.78\n"
     ]
    }
   ],
   "source": [
    "l1_ratios = [0.1, 0.3, 0.5, 0.7, 0.9, 0.99]\n",
    "alphas = [100, 50, 20, 10, 1, 0.1, 0.01]\n",
    "elastic = ElasticNetCV(alphas=alphas, l1_ratio=l1_ratios).fit(x_train, y_train)\n",
    "predictions = elastic.predict(x_test)\n",
    "predictions[predictions<0] = 0\n",
    "print(\"Mejor alpha: %.2f\" % elastic.alpha_)\n",
    "print(\"Mejor ratio: %.2f\" % elastic.l1_ratio_)\n",
    "error = mean_absolute_error(y_test, predictions)\n",
    "print(\"Error medio absoluto: %.2f\" % error)"
   ]
  },
  {
   "cell_type": "markdown",
   "metadata": {},
   "source": [
    "Obtenemos un problema ya que el modelo no termina de converger y se obtiene el mismo resultado que con los modelos anteriores."
   ]
  },
  {
   "cell_type": "markdown",
   "metadata": {},
   "source": [
    "## Ridge"
   ]
  },
  {
   "cell_type": "markdown",
   "metadata": {},
   "source": [
    "Este modelo tiende a reducir los coeficientes que no multiplican las variables que no aportan tanto a la predicción de la variable objetivo."
   ]
  },
  {
   "cell_type": "code",
   "execution_count": 45,
   "metadata": {},
   "outputs": [
    {
     "name": "stdout",
     "output_type": "stream",
     "text": [
      "Mejor alpha: 300.00\n",
      "Error medio absoluto: 50.80\n"
     ]
    }
   ],
   "source": [
    "alphas = [400, 300, 200, 100, 50, 10, 1, 0.1]\n",
    "ridge = RidgeCV(alphas=alphas).fit(x_train, y_train)\n",
    "predictions = ridge.predict(x_test)\n",
    "predictions[predictions<0] = 0\n",
    "print(\"Mejor alpha: %.2f\" % ridge.alpha_)\n",
    "error = mean_absolute_error(y_test, predictions)\n",
    "print(\"Error medio absoluto: %.2f\" % error)"
   ]
  },
  {
   "cell_type": "markdown",
   "metadata": {},
   "source": [
    "Se obtiene un valor similar. Probamos un último modelo."
   ]
  },
  {
   "cell_type": "markdown",
   "metadata": {},
   "source": [
    "## Random Forest Regressor"
   ]
  },
  {
   "cell_type": "markdown",
   "metadata": {},
   "source": [
    "El algoritmo Random Forest es más susceptible a tener overfitting y no requiere de escalar variables."
   ]
  },
  {
   "cell_type": "code",
   "execution_count": 46,
   "metadata": {},
   "outputs": [
    {
     "name": "stdout",
     "output_type": "stream",
     "text": [
      "Error medio absoluto: 44.33\n"
     ]
    }
   ],
   "source": [
    "df_low = df[df['price'] < 450]\n",
    "\n",
    "x = df_low.loc[:, df_low.columns != 'price']\n",
    "y = df_low['price']\n",
    "\n",
    "# Se separan los datos en datos de entrenamiento y de test\n",
    "x_train, x_test, y_train, y_test = train_test_split(x, y, random_state = 42)\n",
    "\n",
    "# Instantiate model with 100 decision trees\n",
    "rf = RandomForestRegressor().fit(x_train, y_train)\n",
    "predictions = rf.predict(x_test)\n",
    "predictions[predictions<0] = 0\n",
    "error = mean_absolute_error(y_test, predictions)\n",
    "print(\"Error medio absoluto: %.2f\" % error)"
   ]
  },
  {
   "cell_type": "markdown",
   "metadata": {},
   "source": [
    "Se obtiene un error medio absoluto bastante mejor. Se comprueba la robustez del modelo."
   ]
  },
  {
   "cell_type": "code",
   "execution_count": 49,
   "metadata": {},
   "outputs": [
    {
     "name": "stdout",
     "output_type": "stream",
     "text": [
      "Score train: 0.9467359109899923\n",
      "Score test: 0.6199501127659887\n"
     ]
    }
   ],
   "source": [
    "score_train = rf.score(x_train, y_train)\n",
    "print(\"Score train: \" + str(score_train))\n",
    "score_test = rf.score(x_test, y_test)\n",
    "print(\"Score test: \" + str(score_test))"
   ]
  },
  {
   "cell_type": "markdown",
   "metadata": {},
   "source": [
    "Se puede ver como el modelo sufre de overfitting, como era de esperar."
   ]
  },
  {
   "cell_type": "code",
   "execution_count": 50,
   "metadata": {},
   "outputs": [
    {
     "name": "stdout",
     "output_type": "stream",
     "text": [
      "0.58 accuracy with a standard deviation of 0.02\n"
     ]
    }
   ],
   "source": [
    "scores = cross_val_score(rf, x_test, y_test)\n",
    "print(\"%0.2f accuracy with a standard deviation of %0.2f\" % (scores.mean(), scores.std()))"
   ]
  },
  {
   "cell_type": "code",
   "execution_count": 57,
   "metadata": {},
   "outputs": [
    {
     "name": "stdout",
     "output_type": "stream",
     "text": [
      "Variance score: 0.68\n"
     ]
    },
    {
     "data": {
      "text/plain": [
       "<matplotlib.legend.Legend at 0x1d351d7e748>"
      ]
     },
     "execution_count": 57,
     "metadata": {},
     "output_type": "execute_result"
    },
    {
     "data": {
      "image/png": "[encoded data removed]",
      "text/plain": [
       "<Figure size 432x288 with 1 Axes>"
      ]
     },
     "metadata": {
      "needs_background": "light"
     },
     "output_type": "display_data"
    }
   ],
   "source": [
    "predictions = rf.predict(x)\n",
    "predictions[predictions<0] = 0\n",
    "    \n",
    "print('Variance score: %.2f' % r2_score(y, predictions))\n",
    "error = mean_absolute_error(y, predictions)\n",
    "\n",
    "plt.plot(y, label = 'Precio real')\n",
    "plt.plot(predictions, '*', label = 'Prediccion')\n",
    "plt.ylabel('Precio')\n",
    "plt.legend()"
   ]
  },
  {
   "cell_type": "markdown",
   "metadata": {},
   "source": [
    "Probamos a ver si con todos los datos de precios se obtiene un resultado optimo usando el mismo algoritmo."
   ]
  },
  {
   "cell_type": "code",
   "execution_count": 58,
   "metadata": {},
   "outputs": [
    {
     "name": "stdout",
     "output_type": "stream",
     "text": [
      "Error medio absoluto: 94.06\n"
     ]
    }
   ],
   "source": [
    "x = df.loc[:, df.columns != 'price']\n",
    "y = df['price']\n",
    "\n",
    "# Se separan los datos en datos de entrenamiento y de test\n",
    "x_train, x_test, y_train, y_test = train_test_split(x, y, random_state = 42)\n",
    "\n",
    "rf = RandomForestRegressor().fit(x_train, y_train)\n",
    "predictions = rf.predict(x_test)\n",
    "predictions[predictions<0] = 0\n",
    "error = mean_absolute_error(y_test, predictions)\n",
    "print(\"Error medio absoluto: %.2f\" % error)"
   ]
  },
  {
   "cell_type": "markdown",
   "metadata": {},
   "source": [
    "Se obtiene un error más alto pero considerable teniendo en cuenta que no es capaz de pedecir correctamente los precios más desorbitados."
   ]
  },
  {
   "cell_type": "code",
   "execution_count": 59,
   "metadata": {},
   "outputs": [
    {
     "name": "stdout",
     "output_type": "stream",
     "text": [
      "Variance score: 0.67\n"
     ]
    },
    {
     "data": {
      "text/plain": [
       "<matplotlib.legend.Legend at 0x1d351c45448>"
      ]
     },
     "execution_count": 59,
     "metadata": {},
     "output_type": "execute_result"
    },
    {
     "data": {
      "image/png": "[encoded data removed]",
      "text/plain": [
       "<Figure size 432x288 with 1 Axes>"
      ]
     },
     "metadata": {
      "needs_background": "light"
     },
     "output_type": "display_data"
    }
   ],
   "source": [
    "predictions = rf.predict(x)\n",
    "predictions[predictions<0] = 0\n",
    "    \n",
    "print('Variance score: %.2f' % r2_score(y, predictions))\n",
    "error = mean_absolute_error(y, predictions)\n",
    "\n",
    "plt.plot(y, label = 'Precio real')\n",
    "plt.plot(predictions, '*', label = 'Prediccion')\n",
    "plt.ylabel('Precio')\n",
    "plt.legend()"
   ]
  },
  {
   "cell_type": "markdown",
   "metadata": {},
   "source": [
    "# Solución"
   ]
  },
  {
   "cell_type": "markdown",
   "metadata": {},
   "source": [
    "Se decide por el modelo usando random forest regressor ya que proporciona un error medio absoluto considerablemente más bajo y es capaz de predecir mejor hazta un rango de precios más elevados.\n",
    "\n",
    "Eliminando los valores desorbitados obtenemos los siguientes resultados:\n",
    "    \n",
    "    Error medio absoluto: 44.33\n",
    "    Score train: 0.9467359109899923\n",
    "    Score test: 0.6199501127659887\n",
    "    \n",
    "A pesar del overfitting se obtiene una precisión mejor del conjunto de testque con los otros modelos, por eso se elije."
   ]
  }
 ],
 "metadata": {
  "kernelspec": {
   "display_name": "Python 3",
   "language": "python",
   "name": "python3"
  },
  "language_info": {
   "codemirror_mode": {
    "name": "ipython",
    "version": 3
   },
   "file_extension": ".py",
   "mimetype": "text/x-python",
   "name": "python",
   "nbconvert_exporter": "python",
   "pygments_lexer": "ipython3",
   "version": "3.7.7"
  }
 },
 "nbformat": 4,
 "nbformat_minor": 4
}
